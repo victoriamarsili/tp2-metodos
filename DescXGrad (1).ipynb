{
 "cells": [
  {
   "cell_type": "code",
   "execution_count": 1,
   "metadata": {},
   "outputs": [],
   "source": [
    "import numpy as np\n",
    "import matplotlib.pyplot as plt\n",
    "from PIL import Image\n",
    "import os"
   ]
  },
  {
   "cell_type": "code",
   "execution_count": 26,
   "metadata": {},
   "outputs": [],
   "source": [
    "def abrirImagenesEscaladas( carpeta, escala=32 ):\n",
    "    # abre todas las imagenes de la carpeta, y las escala de tal forma que midan (escala x escala)px\n",
    "    # devuelve las imagenes aplanadas -> vectores de tamano escala^2 con valores entre 0 y 1\n",
    "    imagenes = []\n",
    "\n",
    "    for dirpath, dirnames, filenames in os.walk(carpeta):\n",
    "        for file in filenames:\n",
    "            img = Image.open( os.path.join(carpeta, file) )\n",
    "            img = img.resize((escala, escala))\n",
    "            img.convert('1')\n",
    "            img = np.asarray(img)\n",
    "            if len(img.shape)==3:\n",
    "                img = img[:,:,0].reshape((escala**2 )) / 255\n",
    "            else:\n",
    "                img = img.reshape((escala**2 )) / 255\n",
    "            \n",
    "            imagenes.append( img )\n",
    "\n",
    "    return imagenes"
   ]
  },
  {
   "cell_type": "code",
   "execution_count": null,
   "metadata": {},
   "outputs": [],
   "source": [
    "def balancear_datos(imagenes_entrenamiento):\n",
    "    imagenes_entrenamiento_balanceadas = \n",
    "    return imagenes_entrenamiento_balanceadas"
   ]
  },
  {
   "cell_type": "code",
   "execution_count": null,
   "metadata": {},
   "outputs": [],
   "source": []
  }
 ],
 "metadata": {
  "kernelspec": {
   "display_name": "metodos",
   "language": "python",
   "name": "python3"
  },
  "language_info": {
   "codemirror_mode": {
    "name": "ipython",
    "version": 3
   },
   "file_extension": ".py",
   "mimetype": "text/x-python",
   "name": "python",
   "nbconvert_exporter": "python",
   "pygments_lexer": "ipython3",
   "version": "3.10.13"
  }
 },
 "nbformat": 4,
 "nbformat_minor": 2
}
